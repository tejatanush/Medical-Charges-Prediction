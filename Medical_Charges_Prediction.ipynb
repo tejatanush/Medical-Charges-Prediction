{
  "nbformat": 4,
  "nbformat_minor": 0,
  "metadata": {
    "colab": {
      "provenance": [],
      "authorship_tag": "ABX9TyMyaTt+KhxN9BbECWkHuPYU",
      "include_colab_link": true
    },
    "kernelspec": {
      "name": "python3",
      "display_name": "Python 3"
    },
    "language_info": {
      "name": "python"
    }
  },
  "cells": [
    {
      "cell_type": "markdown",
      "metadata": {
        "id": "view-in-github",
        "colab_type": "text"
      },
      "source": [
        "<a href=\"https://colab.research.google.com/github/tejatanush/Medical-Charges-Prediction/blob/main/Medical_Charges_Prediction.ipynb\" target=\"_parent\"><img src=\"https://colab.research.google.com/assets/colab-badge.svg\" alt=\"Open In Colab\"/></a>"
      ]
    },
    {
      "cell_type": "markdown",
      "source": [
        "# Model Description\n",
        "This model is capable of predicting if Medical Chrges prediction based on features like age,BMI, Gender, Smoking, No.of Children..etc . This helps people to get a visualization of how much they will charge lifetime for their health condition. Hospitals and clinics also be helpful by providing information about patient charges quickly."
      ],
      "metadata": {
        "id": "ninQkzxShDsu"
      }
    },
    {
      "cell_type": "markdown",
      "source": [
        "# Steps to build a model:\n",
        "1. Import required libraries\n",
        "2. Import dataset\n",
        "3. Data Preprocessing\n",
        "* Find and fill missing values\n",
        "* Encoding data\n",
        "* Splitting into training and testing set\n",
        "* Feature Scaling\n",
        "4. Selection of model\n",
        "5. Build a Model\n",
        "6. Predict Results\n",
        "7. Evaluate R-Squared score"
      ],
      "metadata": {
        "id": "X6X8AEj3hF5I"
      }
    },
    {
      "cell_type": "markdown",
      "source": [
        "# 1. Import libraries"
      ],
      "metadata": {
        "id": "GITUPkFwizEP"
      }
    },
    {
      "cell_type": "code",
      "source": [
        "import pandas as pd\n",
        "import matplotlib.pyplot as plt\n",
        "import numpy as np\n",
        "import tensorflow as tf"
      ],
      "metadata": {
        "id": "fsvPIImOi37N"
      },
      "execution_count": 23,
      "outputs": []
    },
    {
      "cell_type": "markdown",
      "source": [
        "# 2. Import dataset\n",
        "This dataset has many independent features to predict medical charges required for a patient for lifetime.\n",
        "\n",
        "Reference:\n",
        "https://www.kaggle.com/datasets/mirichoi0218/insurance\n",
        "Lets split our data into two parts x (dependent variables) and y (independent variable)."
      ],
      "metadata": {
        "id": "On8DNjmqi6Oq"
      }
    },
    {
      "cell_type": "code",
      "source": [
        "dataset=pd.read_csv(\"Health_Price_Prediction.csv\")\n",
        "x=dataset.iloc[:,0:6].values\n",
        "y=dataset.iloc[:,6].values\n",
        "print(dataset.head())"
      ],
      "metadata": {
        "colab": {
          "base_uri": "https://localhost:8080/"
        },
        "id": "US6iLA0bjvlk",
        "outputId": "42a822ab-029a-4f53-e600-76f4ac4676c6"
      },
      "execution_count": 24,
      "outputs": [
        {
          "output_type": "stream",
          "name": "stdout",
          "text": [
            "   age     sex     bmi  children smoker     region      charges\n",
            "0   19  female  27.900         0    yes  southwest  16884.92400\n",
            "1   18    male  33.770         1     no  southeast   1725.55230\n",
            "2   28    male  33.000         3     no  southeast   4449.46200\n",
            "3   33    male  22.705         0     no  northwest  21984.47061\n",
            "4   32    male  28.880         0     no  northwest   3866.85520\n"
          ]
        }
      ]
    },
    {
      "cell_type": "markdown",
      "source": [
        "# 3. Data Preprocessing"
      ],
      "metadata": {
        "id": "anruTz06j4AS"
      }
    },
    {
      "cell_type": "markdown",
      "source": [
        "# Find and filling missing values"
      ],
      "metadata": {
        "id": "viY0aCsxj8LU"
      }
    },
    {
      "cell_type": "code",
      "source": [
        "missing_values = dataset.isnull().sum()\n",
        "print(missing_values)"
      ],
      "metadata": {
        "colab": {
          "base_uri": "https://localhost:8080/"
        },
        "id": "RTzmlOgij_hH",
        "outputId": "3daf72fd-90aa-417c-f875-3365ae1a1375"
      },
      "execution_count": 25,
      "outputs": [
        {
          "output_type": "stream",
          "name": "stdout",
          "text": [
            "age         0\n",
            "sex         0\n",
            "bmi         0\n",
            "children    0\n",
            "smoker      0\n",
            "region      0\n",
            "charges     0\n",
            "dtype: int64\n"
          ]
        }
      ]
    },
    {
      "cell_type": "markdown",
      "source": [
        "Hence we have no missing values we can skip this step."
      ],
      "metadata": {
        "id": "OdHdJSCckCg9"
      }
    },
    {
      "cell_type": "markdown",
      "source": [
        "# Encoding data\n",
        "From our data we have categorical features and some label features. So that we should encode categorcal and label encoding in 2 steps."
      ],
      "metadata": {
        "id": "ggnj3wcpkWwC"
      }
    },
    {
      "cell_type": "code",
      "source": [
        "from sklearn.compose import ColumnTransformer\n",
        "from sklearn.preprocessing import LabelEncoder\n",
        "from sklearn.preprocessing import OneHotEncoder\n",
        "le=LabelEncoder()\n",
        "columns_to_encode=[1,4]\n",
        "for column in columns_to_encode:\n",
        "    x[:,column]=le.fit_transform(x[:,column])\n",
        "ct=ColumnTransformer(transformers=[(\"encoder1\",OneHotEncoder(),[3]),(\"encoder2\",OneHotEncoder(),[5])],remainder='passthrough')\n",
        "x=np.array(ct.fit_transform(x))\n",
        "x=x.astype('float32')\n",
        "y=y.astype('float32')"
      ],
      "metadata": {
        "id": "viLU2zQLkKgB"
      },
      "execution_count": 26,
      "outputs": []
    },
    {
      "cell_type": "markdown",
      "source": [
        "#Splitting into training set and test set\n",
        "Let's split data so that 80% of data will be training set and remaining 20% will be testing set."
      ],
      "metadata": {
        "id": "A6rUw0s_ktUJ"
      }
    },
    {
      "cell_type": "code",
      "source": [
        "from sklearn.model_selection import train_test_split\n",
        "x_train,x_test,y_train,y_test=train_test_split(x,y,test_size=0.2,random_state=0)\n",
        "#Let's check how data splitted\n",
        "print(x_train)\n",
        "print(y_train)"
      ],
      "metadata": {
        "colab": {
          "base_uri": "https://localhost:8080/"
        },
        "id": "VW9qynQBksQi",
        "outputId": "07fea117-0cf0-4a42-ec96-0053b9243079"
      },
      "execution_count": 27,
      "outputs": [
        {
          "output_type": "stream",
          "name": "stdout",
          "text": [
            "[[ 0.    0.    0.   ...  1.   34.1   1.  ]\n",
            " [ 1.    0.    0.   ...  1.   34.43  0.  ]\n",
            " [ 0.    0.    1.   ...  0.   36.67  1.  ]\n",
            " ...\n",
            " [ 1.    0.    0.   ...  1.   25.08  0.  ]\n",
            " [ 1.    0.    0.   ...  1.   35.53  0.  ]\n",
            " [ 0.    1.    0.   ...  0.   18.5   0.  ]]\n",
            "[40182.246   1137.4697 38511.63   ...  5415.661   1646.4297  4766.022 ]\n"
          ]
        }
      ]
    },
    {
      "cell_type": "markdown",
      "source": [
        "We can see that data is not in certain order.... it mean the data is splitted in random."
      ],
      "metadata": {
        "id": "GhZbfnVzk4wT"
      }
    },
    {
      "cell_type": "markdown",
      "source": [
        "Feature Scaling\n",
        "Let's Normalize BMI, Age, Charges.Because these are having unique numerical values and by normalizing them model may understand better patterns between them."
      ],
      "metadata": {
        "id": "gdbBmN58lady"
      }
    },
    {
      "cell_type": "code",
      "source": [
        "from sklearn.preprocessing import MinMaxScaler\n",
        "sc=MinMaxScaler()\n",
        "x_train[:,10]=sc.fit_transform((x_train[:,10]).reshape(-1,1)).flatten()\n",
        "x_test[:,10]=sc.fit_transform((x_test[:,10]).reshape(-1,1)).flatten()\n",
        "x_train[:,12]=sc.fit_transform((x_train[:,12]).reshape(-1,1)).flatten()\n",
        "x_test[:,12]=sc.fit_transform((x_test[:,12]).reshape(-1,1)).flatten()\n",
        "y_train=sc.fit_transform(y_train.reshape(-1,1))\n",
        "y_test=sc.transform(y_test.reshape(-1,1))\n",
        "print(x_train[2])\n",
        "print(y_train[2])"
      ],
      "metadata": {
        "colab": {
          "base_uri": "https://localhost:8080/"
        },
        "id": "zOYTUcWklnpJ",
        "outputId": "3fa47bb1-3b3c-40a2-f298-f9605ab254e8"
      },
      "execution_count": 28,
      "outputs": [
        {
          "output_type": "stream",
          "name": "stdout",
          "text": [
            "[0.         0.         1.         0.         0.         0.\n",
            " 1.         0.         0.         0.         0.10869566 0.\n",
            " 0.5571697  1.        ]\n",
            "[0.5968175]\n"
          ]
        }
      ]
    },
    {
      "cell_type": "markdown",
      "source": [
        "So, the Age,BMI,Charges were normalized into values between 0 and 1."
      ],
      "metadata": {
        "id": "C4vdWUhplvJG"
      }
    },
    {
      "cell_type": "markdown",
      "source": [
        "# 4. Selection of model\n",
        "Hence the prediction of charges will be many unique values which predicted from many different features. So let's use regression model to predict charges."
      ],
      "metadata": {
        "id": "Kq1Z3p05l2mr"
      }
    },
    {
      "cell_type": "markdown",
      "source": [
        "#5. Build a model\n",
        "**Create model:** In regressio problems we make our model from baseline machine learning models. I have already evaluated many models out of them Randonm Forest Regressor model is the best for predicting charges as it showing the good R-Swuared values."
      ],
      "metadata": {
        "id": "nAKokDYImOYE"
      }
    },
    {
      "cell_type": "code",
      "source": [
        "from sklearn.ensemble import RandomForestRegressor\n",
        "regressor=RandomForestRegressor(n_estimators=40,random_state=0)\n"
      ],
      "metadata": {
        "id": "f2jsHtxKlr0C"
      },
      "execution_count": 29,
      "outputs": []
    },
    {
      "cell_type": "markdown",
      "source": [
        "We have constructed the outline of model in a robust manner."
      ],
      "metadata": {
        "id": "onukhnzrpg54"
      }
    },
    {
      "cell_type": "markdown",
      "source": [
        "**Fit Model:** Lets fit our model with x_train and y_train data."
      ],
      "metadata": {
        "id": "NP-NKHgonNbr"
      }
    },
    {
      "cell_type": "code",
      "source": [
        "regressor.fit(x_train,y_train)"
      ],
      "metadata": {
        "colab": {
          "base_uri": "https://localhost:8080/",
          "height": 109
        },
        "id": "U0RuAwOdnJSv",
        "outputId": "453d75f4-ce4f-4d96-9a37-fbe5ef0a5fa1"
      },
      "execution_count": 33,
      "outputs": [
        {
          "output_type": "stream",
          "name": "stderr",
          "text": [
            "<ipython-input-33-923b4e1a10f6>:1: DataConversionWarning: A column-vector y was passed when a 1d array was expected. Please change the shape of y to (n_samples,), for example using ravel().\n",
            "  regressor.fit(x_train,y_train)\n"
          ]
        },
        {
          "output_type": "execute_result",
          "data": {
            "text/plain": [
              "RandomForestRegressor(n_estimators=40, random_state=0)"
            ],
            "text/html": [
              "<style>#sk-container-id-4 {color: black;background-color: white;}#sk-container-id-4 pre{padding: 0;}#sk-container-id-4 div.sk-toggleable {background-color: white;}#sk-container-id-4 label.sk-toggleable__label {cursor: pointer;display: block;width: 100%;margin-bottom: 0;padding: 0.3em;box-sizing: border-box;text-align: center;}#sk-container-id-4 label.sk-toggleable__label-arrow:before {content: \"▸\";float: left;margin-right: 0.25em;color: #696969;}#sk-container-id-4 label.sk-toggleable__label-arrow:hover:before {color: black;}#sk-container-id-4 div.sk-estimator:hover label.sk-toggleable__label-arrow:before {color: black;}#sk-container-id-4 div.sk-toggleable__content {max-height: 0;max-width: 0;overflow: hidden;text-align: left;background-color: #f0f8ff;}#sk-container-id-4 div.sk-toggleable__content pre {margin: 0.2em;color: black;border-radius: 0.25em;background-color: #f0f8ff;}#sk-container-id-4 input.sk-toggleable__control:checked~div.sk-toggleable__content {max-height: 200px;max-width: 100%;overflow: auto;}#sk-container-id-4 input.sk-toggleable__control:checked~label.sk-toggleable__label-arrow:before {content: \"▾\";}#sk-container-id-4 div.sk-estimator input.sk-toggleable__control:checked~label.sk-toggleable__label {background-color: #d4ebff;}#sk-container-id-4 div.sk-label input.sk-toggleable__control:checked~label.sk-toggleable__label {background-color: #d4ebff;}#sk-container-id-4 input.sk-hidden--visually {border: 0;clip: rect(1px 1px 1px 1px);clip: rect(1px, 1px, 1px, 1px);height: 1px;margin: -1px;overflow: hidden;padding: 0;position: absolute;width: 1px;}#sk-container-id-4 div.sk-estimator {font-family: monospace;background-color: #f0f8ff;border: 1px dotted black;border-radius: 0.25em;box-sizing: border-box;margin-bottom: 0.5em;}#sk-container-id-4 div.sk-estimator:hover {background-color: #d4ebff;}#sk-container-id-4 div.sk-parallel-item::after {content: \"\";width: 100%;border-bottom: 1px solid gray;flex-grow: 1;}#sk-container-id-4 div.sk-label:hover label.sk-toggleable__label {background-color: #d4ebff;}#sk-container-id-4 div.sk-serial::before {content: \"\";position: absolute;border-left: 1px solid gray;box-sizing: border-box;top: 0;bottom: 0;left: 50%;z-index: 0;}#sk-container-id-4 div.sk-serial {display: flex;flex-direction: column;align-items: center;background-color: white;padding-right: 0.2em;padding-left: 0.2em;position: relative;}#sk-container-id-4 div.sk-item {position: relative;z-index: 1;}#sk-container-id-4 div.sk-parallel {display: flex;align-items: stretch;justify-content: center;background-color: white;position: relative;}#sk-container-id-4 div.sk-item::before, #sk-container-id-4 div.sk-parallel-item::before {content: \"\";position: absolute;border-left: 1px solid gray;box-sizing: border-box;top: 0;bottom: 0;left: 50%;z-index: -1;}#sk-container-id-4 div.sk-parallel-item {display: flex;flex-direction: column;z-index: 1;position: relative;background-color: white;}#sk-container-id-4 div.sk-parallel-item:first-child::after {align-self: flex-end;width: 50%;}#sk-container-id-4 div.sk-parallel-item:last-child::after {align-self: flex-start;width: 50%;}#sk-container-id-4 div.sk-parallel-item:only-child::after {width: 0;}#sk-container-id-4 div.sk-dashed-wrapped {border: 1px dashed gray;margin: 0 0.4em 0.5em 0.4em;box-sizing: border-box;padding-bottom: 0.4em;background-color: white;}#sk-container-id-4 div.sk-label label {font-family: monospace;font-weight: bold;display: inline-block;line-height: 1.2em;}#sk-container-id-4 div.sk-label-container {text-align: center;}#sk-container-id-4 div.sk-container {/* jupyter's `normalize.less` sets `[hidden] { display: none; }` but bootstrap.min.css set `[hidden] { display: none !important; }` so we also need the `!important` here to be able to override the default hidden behavior on the sphinx rendered scikit-learn.org. See: https://github.com/scikit-learn/scikit-learn/issues/21755 */display: inline-block !important;position: relative;}#sk-container-id-4 div.sk-text-repr-fallback {display: none;}</style><div id=\"sk-container-id-4\" class=\"sk-top-container\"><div class=\"sk-text-repr-fallback\"><pre>RandomForestRegressor(n_estimators=40, random_state=0)</pre><b>In a Jupyter environment, please rerun this cell to show the HTML representation or trust the notebook. <br />On GitHub, the HTML representation is unable to render, please try loading this page with nbviewer.org.</b></div><div class=\"sk-container\" hidden><div class=\"sk-item\"><div class=\"sk-estimator sk-toggleable\"><input class=\"sk-toggleable__control sk-hidden--visually\" id=\"sk-estimator-id-4\" type=\"checkbox\" checked><label for=\"sk-estimator-id-4\" class=\"sk-toggleable__label sk-toggleable__label-arrow\">RandomForestRegressor</label><div class=\"sk-toggleable__content\"><pre>RandomForestRegressor(n_estimators=40, random_state=0)</pre></div></div></div></div></div>"
            ]
          },
          "metadata": {},
          "execution_count": 33
        }
      ]
    },
    {
      "cell_type": "markdown",
      "source": [
        "We have fit our model with x_train and y_train and we can see summary of model."
      ],
      "metadata": {
        "id": "7dsjVxlPocw5"
      }
    },
    {
      "cell_type": "markdown",
      "source": [
        "# 6. Predict Results\n",
        "Let's Predict the results of x_test and compare them with y_test."
      ],
      "metadata": {
        "id": "nhwN6uDVnbVU"
      }
    },
    {
      "cell_type": "code",
      "source": [
        "y_pred=regressor.predict(x_test)\n",
        "y_pred=y_pred.reshape(-1,1)\n",
        "y_pred=sc.inverse_transform(y_pred)\n",
        "y_test=sc.inverse_transform(y_test)\n",
        "print(np.concatenate((y_pred.reshape(len(y_pred),1),y_test.reshape(len(y_test),1)),1))"
      ],
      "metadata": {
        "colab": {
          "base_uri": "https://localhost:8080/"
        },
        "id": "DXlQr9OwnZ8z",
        "outputId": "6e85789a-9f99-43be-9319-b829a4e5fc3d"
      },
      "execution_count": 31,
      "outputs": [
        {
          "output_type": "stream",
          "name": "stdout",
          "text": [
            "[[10071.37810058  9724.52929688]\n",
            " [ 9033.61665596  8547.69140625]\n",
            " [49230.05044556 45702.0234375 ]\n",
            " [12984.69801217 12950.07128906]\n",
            " [ 9651.93545445  9644.25292969]\n",
            " [10776.09485658  4500.33935547]\n",
            " [ 2880.08498146  2198.18994141]\n",
            " [11554.78783755 11436.73730469]\n",
            " [ 6756.42886154  7537.1640625 ]\n",
            " [ 8477.98674812  5425.0234375 ]\n",
            " [ 8101.11640078  6753.03808594]\n",
            " [17590.93737446 10493.94433594]\n",
            " [ 7883.71860327  7337.74804688]\n",
            " [ 5066.70865124  4185.09765625]\n",
            " [34090.50384141 18310.7421875 ]\n",
            " [13567.3917953  10702.64257812]\n",
            " [13387.85017062 12523.60351562]\n",
            " [10556.84428718  3490.54907227]\n",
            " [ 6627.63718487  6457.84326172]\n",
            " [34900.35391572 33475.81640625]\n",
            " [23933.56602302 23967.3828125 ]\n",
            " [19560.07405222 12643.37792969]\n",
            " [10003.36695056 23045.56640625]\n",
            " [26753.73577355 23065.41992188]\n",
            " [ 2348.19216409  1674.63232422]\n",
            " [ 9618.94176272  4667.60742188]\n",
            " [ 8114.80911962  3732.625     ]\n",
            " [ 7689.37623975  7682.66992188]\n",
            " [ 3743.88049934  3756.62158203]\n",
            " [ 9738.3459622   8413.46289062]\n",
            " [ 7342.10515297  8059.6796875 ]\n",
            " [55191.91560887 48970.24609375]\n",
            " [13697.09717057 12979.35742188]\n",
            " [11181.1055982  20630.28320312]\n",
            " [15376.85632733 14571.890625  ]\n",
            " [ 5588.86030954  4137.52246094]\n",
            " [ 8649.94381666  8347.1640625 ]\n",
            " [39026.11402457 51194.55859375]\n",
            " [43520.69918365 40003.33203125]\n",
            " [ 2243.85531364  1880.48706055]\n",
            " [10339.28976644  5458.04638672]\n",
            " [ 3933.52247282  2867.11962891]\n",
            " [21962.40133111 20149.32226562]\n",
            " [48237.59414543 47496.49609375]\n",
            " [38240.29690756 36149.484375  ]\n",
            " [10611.85462042 26018.95117188]\n",
            " [14629.42876493 19749.3828125 ]\n",
            " [ 6753.91626039  6940.90966797]\n",
            " [ 7887.36224778  4718.20361328]\n",
            " [13423.65002565 22192.4375    ]\n",
            " [ 4808.54975944  2899.48925781]\n",
            " [ 8034.83022447 18838.703125  ]\n",
            " [26978.9378116  23568.27148438]\n",
            " [47816.91479715 46255.11328125]\n",
            " [11635.13319527 24227.33789062]\n",
            " [ 7988.04795432  3268.84667969]\n",
            " [ 2496.25487144  2322.62182617]\n",
            " [12105.89494312  8827.20996094]\n",
            " [ 9738.42766996 14478.32910156]\n",
            " [17810.59654102 13112.60351562]\n",
            " [ 2634.33965937  1253.93603516]\n",
            " [47418.09606731 46718.1640625 ]\n",
            " [21399.39686611 13919.82324219]\n",
            " [12023.55212121  9630.39746094]\n",
            " [11434.26393135 10736.87109375]\n",
            " [11465.13959268  9880.06738281]\n",
            " [34880.10896848 32548.33984375]\n",
            " [49082.35035383 38746.35546875]\n",
            " [ 7027.39448915  3180.51000977]\n",
            " [11542.40591446  8162.71582031]\n",
            " [13135.53114491 13041.91992188]\n",
            " [12588.37457805 11554.22363281]\n",
            " [19267.32688545 16232.84765625]\n",
            " [13688.51447165 13887.96875   ]\n",
            " [13197.74811546 13012.20898438]\n",
            " [14059.06133614 13217.09375   ]\n",
            " [10537.68325138  7147.10498047]\n",
            " [10246.47765636  7731.42724609]\n",
            " [20205.77942029 20296.86328125]\n",
            " [49119.74156143 47403.87890625]\n",
            " [11504.11885047 11658.37792969]\n",
            " [47719.19623641 45863.203125  ]\n",
            " [ 1826.56750257  2055.32495117]\n",
            " [10366.45102122  7441.05322266]\n",
            " [44616.95444619 41034.22265625]\n",
            " [19304.10569326 18972.49414062]\n",
            " [ 3884.91894054  3410.32397461]\n",
            " [ 5642.9230889   2699.56835938]\n",
            " [15561.1530006  12333.82714844]\n",
            " [43194.83425818 36837.46875   ]\n",
            " [ 9461.15218038  6334.34375   ]\n",
            " [11392.69467058 10214.63574219]\n",
            " [ 3849.32008462 17878.90039062]\n",
            " [10352.54711898  8515.75878906]\n",
            " [ 8608.55770987  4518.82617188]\n",
            " [ 9303.65708205  5148.55273438]\n",
            " [43877.04229405 42303.69140625]\n",
            " [40935.30488544 38998.546875  ]\n",
            " [ 6824.24328046  5327.40039062]\n",
            " [11175.78588854 10602.38378906]\n",
            " [ 1907.79867534  1824.28540039]\n",
            " [ 5906.46831689  5377.45800781]\n",
            " [ 5180.52627222  4349.46191406]\n",
            " [41803.62438904 37742.57421875]\n",
            " [48892.98336512 32787.45703125]\n",
            " [ 4196.0148032   3353.47021484]\n",
            " [11070.26245127 10577.08691406]\n",
            " [ 8708.31107625  3556.92236328]\n",
            " [11814.3381751  11944.59472656]\n",
            " [46573.0962993  52590.828125  ]\n",
            " [12637.02652002 12475.35058594]\n",
            " [ 7074.78045969  4266.16601562]\n",
            " [10318.0391731   9249.49414062]\n",
            " [35126.23878886 33732.6875    ]\n",
            " [54889.62508769 48675.51953125]\n",
            " [ 7401.03113984  7729.64550781]\n",
            " [ 2223.87439671  1964.78015137]\n",
            " [12513.38505784  8444.47363281]\n",
            " [18878.88217056 12347.17089844]\n",
            " [10170.95817929  9301.89355469]\n",
            " [44262.14308207 42124.515625  ]\n",
            " [12571.51178597  9991.03710938]\n",
            " [14114.84675535 14319.03125   ]\n",
            " [11343.6527205   5428.72753906]\n",
            " [ 9151.7581193   7626.99316406]\n",
            " [ 5798.58590353  4906.40966797]\n",
            " [25237.55503993 23401.30664062]\n",
            " [25257.28742909 21098.5546875 ]\n",
            " [50703.96051762 48173.359375  ]\n",
            " [ 1992.75257773  1917.31835938]\n",
            " [10136.09805686  8219.20410156]\n",
            " [ 7230.80373504  1725.55224609]\n",
            " [ 6015.12642886  5976.83105469]\n",
            " [10446.86805119  9361.32617188]\n",
            " [39667.07646836 22144.03125   ]\n",
            " [37623.90803191 35491.640625  ]\n",
            " [24412.88582444 19515.54101562]\n",
            " [15712.17344739 10107.21972656]\n",
            " [23388.29519939 23244.79101562]\n",
            " [ 3598.467481    2789.05737305]\n",
            " [ 3123.42160984  2261.56884766]\n",
            " [12142.71197925 10594.50097656]\n",
            " [ 9333.81763128  9304.70117188]\n",
            " [10381.46710355 10435.06445312]\n",
            " [ 6242.03521624  4894.75341797]\n",
            " [13909.0235296  14313.84570312]\n",
            " [15989.8812051  28287.8984375 ]\n",
            " [ 7166.52609796 14426.07421875]\n",
            " [ 1618.42678182  1627.2824707 ]\n",
            " [13637.24073979 25517.11328125]\n",
            " [ 6671.60013761  6555.0703125 ]\n",
            " [41491.00372911 39611.7578125 ]\n",
            " [11616.9968497   9964.05957031]\n",
            " [ 3473.23682212  1720.35375977]\n",
            " [ 5541.23114405  2730.10791016]\n",
            " [ 6652.45446432  6500.23583984]\n",
            " [ 3787.47275942  2643.26855469]\n",
            " [ 3470.23657956  1719.4362793 ]\n",
            " [11563.52979775 11085.5859375 ]\n",
            " [10655.25603943 10115.00878906]\n",
            " [12446.89710641  4846.91992188]\n",
            " [13189.08811974 12982.875     ]\n",
            " [12752.82020969 28923.13671875]\n",
            " [11177.30857952  9391.34472656]\n",
            " [ 5031.48133984  4544.23486328]\n",
            " [14297.65515497 17128.42578125]\n",
            " [16941.62953667 13844.50488281]\n",
            " [ 9234.82231968  6113.23095703]\n",
            " [ 4904.54118646  4441.21337891]\n",
            " [ 2013.27727175  1633.96179199]\n",
            " [11144.64412853  4058.7121582 ]\n",
            " [ 5228.90427381  4435.09423828]\n",
            " [10312.79113569  8310.83886719]\n",
            " [ 2721.09723256  1986.93347168]\n",
            " [ 7392.77705151  4260.74414062]\n",
            " [10763.9772604   4504.66259766]\n",
            " [ 7539.63565365  4428.88769531]\n",
            " [ 6597.6319294   6117.49462891]\n",
            " [46595.12579444 30184.9375    ]\n",
            " [ 1762.66357366  1708.92578125]\n",
            " [18092.09861015 11187.65527344]\n",
            " [ 7724.3333916   6796.86328125]\n",
            " [12035.69763791 11356.66113281]\n",
            " [ 2714.63765764  2498.41430664]\n",
            " [ 8034.17203765 27375.90429688]\n",
            " [29047.77550769 28101.33398438]\n",
            " [ 3309.39132885  2254.79663086]\n",
            " [ 3109.79314455  2597.77905273]\n",
            " [13950.55711762 14692.66796875]\n",
            " [14558.40058911 10370.91210938]\n",
            " [42659.622241   41097.16015625]\n",
            " [ 5667.32290552  3981.97705078]\n",
            " [ 5444.19671952  5472.44921875]\n",
            " [24261.98412346 21223.67578125]\n",
            " [ 2923.31692086  2534.39379883]\n",
            " [ 7230.800985    1972.94995117]\n",
            " [ 7779.36748917  6406.41064453]\n",
            " [10576.72017253  6551.75      ]\n",
            " [ 6534.14429348  4058.11621094]\n",
            " [ 5305.59683838  4243.58984375]\n",
            " [11978.85340187 11512.40429688]\n",
            " [48792.15995615 46889.26171875]\n",
            " [17328.69509177 12268.63085938]\n",
            " [18731.20625743 19199.94335938]\n",
            " [12548.12779391  4433.38769531]\n",
            " [45475.46192365 42969.8515625 ]\n",
            " [ 6112.62678718 23241.47460938]\n",
            " [11599.43363705  9140.95019531]\n",
            " [ 5485.38997522  5836.52050781]\n",
            " [ 1187.82380023  1149.39587402]\n",
            " [11717.85814857  8765.24902344]\n",
            " [13642.39021911 14043.47558594]\n",
            " [ 9109.15758687  5312.16992188]\n",
            " [ 5046.07167421 10795.9375    ]\n",
            " [ 6584.69674606  6282.23486328]\n",
            " [ 3994.82796775  1969.61401367]\n",
            " [ 6428.82363779  6746.74267578]\n",
            " [ 8482.62608489  5354.07470703]\n",
            " [13852.67691507 14001.28710938]\n",
            " [ 7729.50471567  6877.97998047]\n",
            " [ 6553.30590107  6196.44824219]\n",
            " [ 7793.63259992  7986.47558594]\n",
            " [10027.72098598  8277.5234375 ]\n",
            " [ 3542.31988764  3206.49145508]\n",
            " [11886.86012561 11848.13964844]\n",
            " [13921.21555974 14210.53515625]\n",
            " [12423.45288959 12265.50683594]\n",
            " [11806.33212152 11837.15917969]\n",
            " [ 7228.73509261  6652.52880859]\n",
            " [ 3453.19017549  2137.65356445]\n",
            " [ 2634.78951007  1131.5065918 ]\n",
            " [10060.07872947  8342.90917969]\n",
            " [13776.34674344 12244.53027344]\n",
            " [10408.19912128  4561.18847656]\n",
            " [ 6002.47659255 17626.24023438]\n",
            " [ 7083.09939378  6875.9609375 ]\n",
            " [10958.66715419  9447.3828125 ]\n",
            " [35306.47084528 34254.0546875 ]\n",
            " [ 8812.88910385  6067.12695312]\n",
            " [16243.35137436 11729.6796875 ]\n",
            " [ 6385.7184415   5383.53613281]\n",
            " [38679.68955015 37465.34375   ]\n",
            " [10928.5671798   7371.77197266]\n",
            " [ 7196.25394146  7325.04833984]\n",
            " [ 8753.70701297  8410.046875  ]\n",
            " [10907.90994794 10461.97851562]\n",
            " [ 6613.37021288  3279.86865234]\n",
            " [ 9355.92481997  7727.25341797]\n",
            " [ 2414.17228735  2731.91210938]\n",
            " [ 8020.65644565  6858.47949219]\n",
            " [39241.51948651 19521.96875   ]\n",
            " [46738.73167622 47305.3046875 ]\n",
            " [ 4697.432633    3987.92602539]\n",
            " [ 4704.66908804  3238.43579102]\n",
            " [ 2540.2614495   7323.73486328]\n",
            " [ 1675.5060677   1704.56811523]\n",
            " [ 9443.63265139  7445.91796875]\n",
            " [ 2013.27727175  1629.83349609]\n",
            " [10439.33485123  4877.98095703]\n",
            " [ 8382.68687478  3561.88891602]\n",
            " [ 9147.58976324  8605.36132812]\n",
            " [27092.61713502 24520.26367188]\n",
            " [46619.9020333  45710.20703125]\n",
            " [16221.05390764 15019.75976562]\n",
            " [ 7425.75051467  6664.68603516]\n",
            " [11414.4011155  20709.01953125]\n",
            " [45111.10020361 40932.4296875 ]\n",
            " [ 9028.47476162  9500.57226562]]\n"
          ]
        }
      ]
    },
    {
      "cell_type": "markdown",
      "source": [
        "Thus the results are very good as they are predicting charges which are closer to original charges. This seems that our model trains good and providing good results.**bold text**"
      ],
      "metadata": {
        "id": "Wl3g5uSXokrd"
      }
    },
    {
      "cell_type": "markdown",
      "source": [
        "#7. Evaluate model score"
      ],
      "metadata": {
        "id": "g2VDC_gbo3Ls"
      }
    },
    {
      "cell_type": "code",
      "source": [
        "from sklearn.metrics import r2_score\n",
        "result=r2_score(y_test,y_pred)\n",
        "print(result)"
      ],
      "metadata": {
        "colab": {
          "base_uri": "https://localhost:8080/"
        },
        "id": "7tGhYVBmo7eK",
        "outputId": "53f111d3-d5bc-4044-f121-05ccf182a014"
      },
      "execution_count": 32,
      "outputs": [
        {
          "output_type": "stream",
          "name": "stdout",
          "text": [
            "0.855152260746799\n"
          ]
        }
      ]
    },
    {
      "cell_type": "markdown",
      "source": [
        "We are getting a good results that having R-Squared value with nearly 85.5% which mean the model performs very well in predicting charges."
      ],
      "metadata": {
        "id": "GByM_1qio-_H"
      }
    }
  ]
}